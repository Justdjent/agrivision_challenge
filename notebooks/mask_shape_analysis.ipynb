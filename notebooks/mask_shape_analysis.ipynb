{
 "cells": [
  {
   "cell_type": "code",
   "execution_count": 8,
   "metadata": {},
   "outputs": [],
   "source": [
    "import pandas as pd\n",
    "import numpy as np\n",
    "import cv2\n",
    "import os\n",
    "\n",
    "import matplotlib.pyplot as plt\n",
    "%matplotlib inline"
   ]
  },
  {
   "cell_type": "code",
   "execution_count": 4,
   "metadata": {},
   "outputs": [],
   "source": [
    "root_folder = \"/home/user/projects/agrivision/data/Agriculture-Vision/train/labels/cloud_shadow\""
   ]
  },
  {
   "cell_type": "code",
   "execution_count": 5,
   "metadata": {},
   "outputs": [],
   "source": [
    "sample_image = \"/home/user/projects/agrivision/data/Agriculture-Vision/train/labels/cloud_shadow/1DJX4RH9N_768-380-1280-892.png\""
   ]
  },
  {
   "cell_type": "code",
   "execution_count": 17,
   "metadata": {},
   "outputs": [],
   "source": [
    "train_val_df = pd.read_csv(\"/home/user/projects/agrivision/data/Agriculture-Vision/train_val_df.csv\")"
   ]
  },
  {
   "cell_type": "code",
   "execution_count": 22,
   "metadata": {},
   "outputs": [
    {
     "data": {
      "text/plain": [
       "name              11UBQLX1B_1105-5908-1617-6420.jpg\n",
       "ds_part                                       train\n",
       "double_plant                                   2295\n",
       "planter_skip                                      0\n",
       "weed_cluster                                      0\n",
       "waterway                                          0\n",
       "cloud_shadow                                      0\n",
       "standing_water                                    0\n",
       "field                                     11UBQLX1B\n",
       "dtype: object"
      ]
     },
     "execution_count": 22,
     "metadata": {},
     "output_type": "execute_result"
    }
   ],
   "source": [
    "train_val_df[train_val_df['double_plant'] != 0].min()"
   ]
  },
  {
   "cell_type": "code",
   "execution_count": 7,
   "metadata": {},
   "outputs": [],
   "source": [
    "mask_1 = cv2.imread(sample_image, cv2.IMREAD_GRAYSCALE)"
   ]
  },
  {
   "cell_type": "code",
   "execution_count": 15,
   "metadata": {},
   "outputs": [
    {
     "name": "stdout",
     "output_type": "stream",
     "text": [
      "1\n",
      "146193.5\n"
     ]
    }
   ],
   "source": [
    "ret, thresh = cv2.threshold(mask_1, 127, 255, 0)\n",
    "im2, contours, hierarchy = cv2.findContours(thresh, 1, 2)\n",
    "# if len(contours) == 0:\n",
    "#     points_df.loc[num, 'is_valid'] = False\n",
    "#     continue\n",
    "print(len(contours))\n",
    "for cnt in contours:\n",
    "    # cnt = contours[0]\n",
    "#     print(cnt.area)\n",
    "    area = cv2.contourArea(cnt)\n",
    "    print(area)"
   ]
  },
  {
   "cell_type": "code",
   "execution_count": 10,
   "metadata": {},
   "outputs": [
    {
     "data": {
      "text/plain": [
       "<matplotlib.image.AxesImage at 0x7f26749c2588>"
      ]
     },
     "execution_count": 10,
     "metadata": {},
     "output_type": "execute_result"
    },
    {
     "data": {
      "image/png": "[encoded data removed]",
      "text/plain": [
       "<Figure size 360x360 with 1 Axes>"
      ]
     },
     "metadata": {},
     "output_type": "display_data"
    }
   ],
   "source": [
    "plt.figure(figsize=(5,5))\n",
    "plt.imshow(mask_1)"
   ]
  },
  {
   "cell_type": "code",
   "execution_count": null,
   "metadata": {},
   "outputs": [],
   "source": []
  }
 ],
 "metadata": {
  "kernelspec": {
   "display_name": "Python 3",
   "language": "python",
   "name": "python3"
  },
  "language_info": {
   "codemirror_mode": {
    "name": "ipython",
    "version": 3
   },
   "file_extension": ".py",
   "mimetype": "text/x-python",
   "name": "python",
   "nbconvert_exporter": "python",
   "pygments_lexer": "ipython3",
   "version": "3.5.2"
  }
 },
 "nbformat": 4,
 "nbformat_minor": 2
}
