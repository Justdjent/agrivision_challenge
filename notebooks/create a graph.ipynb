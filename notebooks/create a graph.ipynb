{
 "cells": [
  {
   "cell_type": "code",
   "execution_count": 1,
   "metadata": {},
   "outputs": [],
   "source": [
    "import pandas as pd\n",
    "import numpy as np\n",
    "import matplotlib.pyplot as plt\n",
    "import rasterio\n",
    "from skimage.morphology import skeletonize\n",
    "from skimage import data\n",
    "import sknw\n",
    "import cv2\n",
    "from scipy import ndimage as ndi\n",
    "from skimage.morphology import watershed\n",
    "from tqdm import tqdm_notebook\n",
    "\n",
    "%matplotlib inline"
   ]
  },
  {
   "cell_type": "code",
   "execution_count": null,
   "metadata": {},
   "outputs": [],
   "source": [
    "def my_watershed(energy, markers, mask):\n",
    "    \"\"\"\n",
    "    Watershed wrapper.\n",
    "\n",
    "    :param energy: Watershed \"energy\" mask\n",
    "    :param markers: \"kernels\" for the watershed algorithm\n",
    "    :param mask: Binary mask separating a single class\n",
    "    :return: Image with every instance labeled with a separate number.\n",
    "    \"\"\"\n",
    "    markers = ndi.label(markers, output=np.uint32)[0]\n",
    "    labels = watershed(255-energy, markers, watershed_line=True, mask=mask)\n",
    "    return labels"
   ]
  },
  {
   "cell_type": "code",
   "execution_count": null,
   "metadata": {},
   "outputs": [],
   "source": [
    "# semantic = semantic.squeeze()\n",
    "# semantic[semantic < 10] = 0  # TODO: this removes uncertainty. Might be a better way to do this.\n",
    "# mask = cv2.equalizeHist(mask.astype('uint8'))\n",
    "# mask = (mask / 255)*3\n",
    "# mask = np.exp(mask)\n",
    "# mask = mask / mask.max()\n",
    "# mask = (mask * 255).astype('uint8')\n",
    "\n",
    "# mask = cv2.GaussianBlur(mask.astype('float32'), (15, 15), 0)\n",
    "# shape = mask.shape[0]\n",
    "# block_size = shape//4\n",
    "# if (block_size % 2) != 1:\n",
    "#     block_size += 1\n",
    "\n",
    "# high_conf = cv2.adaptiveThreshold(mask.astype('uint8'), 1, cv2.ADAPTIVE_THRESH_GAUSSIAN_C, cv2.THRESH_BINARY, block_size, -55)"
   ]
  },
  {
   "cell_type": "code",
   "execution_count": null,
   "metadata": {},
   "outputs": [],
   "source": [
    "raster_path = \"/mnt/storage_4tb/ymi/geo_data/40m_for_ori/citrusuco/dist_mat_result/rgb_bin_504.tif\"\n",
    "\n",
    "with rasterio.open(raster_path, \"r\") as src:\n",
    "    image = src.read(1)\n",
    "    # image = (image * 255).astype(np.uint8)\n",
    "    # image = cv2.resize(image, None, fx=0.2, fy=0.2)\n",
    "    meta = src.meta"
   ]
  },
  {
   "cell_type": "code",
   "execution_count": null,
   "metadata": {},
   "outputs": [],
   "source": [
    "image.dtype"
   ]
  },
  {
   "cell_type": "code",
   "execution_count": null,
   "metadata": {},
   "outputs": [],
   "source": [
    "image[image < 200] = 0\n",
    "dst = cv2.distanceTransform(new_img, cv2.DIST_L1, 3)"
   ]
  },
  {
   "cell_type": "code",
   "execution_count": null,
   "metadata": {},
   "outputs": [],
   "source": [
    "ridge_filter = cv2.ximgproc.RidgeDetectionFilter_create()\n",
    "ridges = ridge_filter.getRidgeFilteredImage(image)"
   ]
  },
  {
   "cell_type": "code",
   "execution_count": null,
   "metadata": {},
   "outputs": [],
   "source": [
    "ridges.max()"
   ]
  },
  {
   "cell_type": "code",
   "execution_count": null,
   "metadata": {},
   "outputs": [],
   "source": [
    "graph = sknw.build_sknw(ridges)"
   ]
  },
  {
   "cell_type": "code",
   "execution_count": null,
   "metadata": {},
   "outputs": [],
   "source": [
    "mask = image > 220\n",
    "markers = image > 220\n",
    "energy = image.copy()\n",
    "energy[energy < 150] = 0\n",
    "labels = my_watershed(energy, markers, mask)"
   ]
  },
  {
   "cell_type": "code",
   "execution_count": null,
   "metadata": {},
   "outputs": [],
   "source": [
    "plt.figure(figsize=(20, 20))\n",
    "plt.imshow(image, 'gray')"
   ]
  },
  {
   "cell_type": "code",
   "execution_count": null,
   "metadata": {},
   "outputs": [],
   "source": [
    "def make_lines(labels):\n",
    "    graphs = []       \n",
    "    for num, label in tqdm_notebook(enumerate(range(1, len(np.unique(labels)) + 1)), total=len(np.unique(labels))):\n",
    "        label_mask = labels == label\n",
    "        ske = skeletonize(label_mask).astype(np.uint16)\n",
    "        graph = sknw.build_sknw(ske)\n",
    "        graphs.append(graph)\n",
    "        \n",
    "#         if num == 100:\n",
    "#             break\n",
    "    return graphs"
   ]
  },
  {
   "cell_type": "code",
   "execution_count": null,
   "metadata": {},
   "outputs": [],
   "source": [
    "from skimage.morphology import skeletonize\n",
    "from skimage import data\n",
    "import sknw\n",
    "\n",
    "# open and skeletonize\n",
    "# img = data.horse()\n",
    "# ske = skeletonize(~img).astype(np.uint16)\n",
    "img = labels == 341\n",
    "ske = skeletonize(img).astype(np.uint16)\n",
    "\n",
    "# build graph from skeleton\n",
    "graph = sknw.build_sknw(ske)\n",
    "plt.figure(figsize=(10, 10))\n",
    "# draw image\n",
    "plt.imshow(img, cmap='gray')\n",
    "print(graph.edges())\n",
    "# draw edges by pts\n",
    "for (s,e) in graph.edges():\n",
    "    ps = graph[s][e]['pts']\n",
    "    plt.plot(ps[:,1], ps[:,0], 'green')\n",
    "new_ps = ps.copy()\n",
    "# draw node by o\n",
    "node, nodes = graph.node, graph.nodes()\n",
    "ps = np.array([node[i]['o'] for i in nodes])\n",
    "plt.plot(ps[:,1], ps[:,0], 'r.')\n",
    "print(ps)\n",
    "# title and show\n",
    "plt.title('Build Graph')\n",
    "plt.show()"
   ]
  },
  {
   "cell_type": "code",
   "execution_count": null,
   "metadata": {},
   "outputs": [],
   "source": [
    "def calc_dist(input_array):\n",
    "    shifted_arr = np.roll(input_array, -1, axis=0)\n",
    "    distance = np.linalg.norm(input_array-shifted_arr,axis=1)[:-1]\n",
    "    #distance = distance[distance > 1]\n",
    "    return distance"
   ]
  },
  {
   "cell_type": "code",
   "execution_count": null,
   "metadata": {},
   "outputs": [],
   "source": [
    "graph_lines = make_lines(labels)"
   ]
  },
  {
   "cell_type": "code",
   "execution_count": null,
   "metadata": {},
   "outputs": [],
   "source": [
    "def save_gpd_df(save_path, geom_df, meta=None):\n",
    "    if meta:\n",
    "        geom_df.crs = meta.get('crs')\n",
    "    if os.path.exists(save_path):\n",
    "        os.remove(save_path)\n",
    "    geom_df.to_file(save_path, driver='GeoJSON', encoding='utf-8')"
   ]
  },
  {
   "cell_type": "code",
   "execution_count": null,
   "metadata": {},
   "outputs": [],
   "source": [
    "ps"
   ]
  },
  {
   "cell_type": "code",
   "execution_count": null,
   "metadata": {},
   "outputs": [],
   "source": [
    "from shapely.geometry import LineString, Point\n",
    "import geopandas as gpd\n",
    "import os"
   ]
  },
  {
   "cell_type": "code",
   "execution_count": null,
   "metadata": {
    "scrolled": true
   },
   "outputs": [],
   "source": [
    "lines = []\n",
    "each = 50\n",
    "for graph in tqdm_notebook(graph_lines, len(lines)):\n",
    "#     node, nodes = graph.node, graph.nodes()\n",
    "#     ps = np.array([node[i]['o'] for i in nodes])\n",
    "    \n",
    "    node, nodes = graph.node, graph.nodes()\n",
    "    graph_ps = []\n",
    "    for (s,e) in graph.edges():\n",
    "        ps = []\n",
    "        weight = graph[s][e]['weight']\n",
    "        if weight < 10:\n",
    "            continue\n",
    "        ps.append(nodes[s]['o'])\n",
    "        pts = graph[s][e]['pts']\n",
    "        ps.extend(pts)\n",
    "        ps.append(nodes[e]['o'])\n",
    "        ps = np.array(ps)\n",
    "        #print(len(ps))\n",
    "        if len(ps) > each:\n",
    "            ps = ps[::each]\n",
    "        graph_ps.extend(ps)\n",
    "    graph_ps = np.array(graph_ps)\n",
    "    if len(graph_ps) < 2:\n",
    "        continue\n",
    "    #print(graph_ps.shape)\n",
    "    #print(np.unique(graph_ps))\n",
    "    y_axis_var = np.var(graph_ps[:,1])\n",
    "    x_axis_var = np.var(graph_ps[:,0])\n",
    "    if y_axis_var > x_axis_var:\n",
    "    #print(y_axis_var, x_axis_var)\n",
    "        ind = np.lexsort((graph_ps[:,0],graph_ps[:,1]))\n",
    "    else:\n",
    "        ind = np.lexsort((graph_ps[:,1],graph_ps[:,0]))\n",
    "    all_coords = graph_ps[ind]\n",
    "    graph_ps = sort_points_recur(all_coords)\n",
    "    #print(np.unique(graph_ps))\n",
    "    #print(graph_ps.shape)\n",
    "    graph_ps =  graph_ps * 1 / 0.2\n",
    "    # change x and y\n",
    "    ps_yx = graph_ps.copy()\n",
    "    ps_yx[:, 1] = graph_ps[:, 0]\n",
    "    ps_yx[:, 0] = graph_ps[:, 1]\n",
    "    #\n",
    "    converted = [meta['transform'] * pt for pt in ps_yx]\n",
    "#     for pt in converted:\n",
    "#         lines.append(Point(pt))\n",
    "    line = LineString(converted)\n",
    "    lines.append(line)"
   ]
  },
  {
   "cell_type": "code",
   "execution_count": null,
   "metadata": {},
   "outputs": [],
   "source": [
    "def sort_points_recur(graph_ps_x):\n",
    "    input_shape = graph_ps_x.shape\n",
    "    graph_index = 0\n",
    "    sorted_graph_pts = [graph_ps_x[graph_index]]\n",
    "    \n",
    "    for i in range(len(graph_ps_x)):\n",
    "        #point = \n",
    "        graph_ps_x = np.delete(graph_ps_x, graph_index, axis=0)\n",
    "        dists = cdist(np.expand_dims(sorted_graph_pts[i], axis=0), graph_ps_x)\n",
    "        #print(dists.shape)\n",
    "        if len(dists[0]) > 0:\n",
    "            graph_index = np.argmin(dists)\n",
    "            graph_min_val = np.min(dists)\n",
    "            sorted_graph_pts.append(graph_ps_x[graph_index])\n",
    "    sorted_graph_pts = np.array(sorted_graph_pts)\n",
    "    #print(sorted_graph_pts.shape, input_shape)\n",
    "    assert input_shape == sorted_graph_pts.shape\n",
    "    return sorted_graph_pts"
   ]
  },
  {
   "cell_type": "code",
   "execution_count": null,
   "metadata": {},
   "outputs": [],
   "source": [
    "graph_ps_x.shape[0]"
   ]
  },
  {
   "cell_type": "code",
   "execution_count": null,
   "metadata": {},
   "outputs": [],
   "source": [
    "np.delete(graph_ps_x, 0, axis=0).shape"
   ]
  },
  {
   "cell_type": "code",
   "execution_count": null,
   "metadata": {},
   "outputs": [],
   "source": [
    "sorted_graph_pts = [graph_ps_x[0]]\n",
    "for i in range(len(graph_ps_x)):\n",
    "    dists = cdist(np.expand_dims(graph_ps_x[i], axis=0), graph_ps_x[i + 1:])\n",
    "    \n",
    "    if len(dists[0]) > 0:\n",
    "        graph_index = np.argmin(dists)\n",
    "        sorted_graph_pts.append(graph_ps_x[i + 1])\n",
    "sorted_graph_pts = np.array(sorted_graph_pts)"
   ]
  },
  {
   "cell_type": "code",
   "execution_count": null,
   "metadata": {},
   "outputs": [],
   "source": [
    "sorted_graph_pts = sort_points_recur(graph_ps_x)"
   ]
  },
  {
   "cell_type": "code",
   "execution_count": null,
   "metadata": {},
   "outputs": [],
   "source": [
    "graph_ps_x[1:].shape"
   ]
  },
  {
   "cell_type": "code",
   "execution_count": null,
   "metadata": {},
   "outputs": [],
   "source": [
    "np.expand_dims(graph_ps_x[0], axis=0)"
   ]
  },
  {
   "cell_type": "code",
   "execution_count": null,
   "metadata": {},
   "outputs": [],
   "source": [
    "dists = cdist(sorted_graph_pts, sorted_graph_pts)"
   ]
  },
  {
   "cell_type": "code",
   "execution_count": null,
   "metadata": {},
   "outputs": [],
   "source": [
    "np.argmin(dists)"
   ]
  },
  {
   "cell_type": "code",
   "execution_count": null,
   "metadata": {},
   "outputs": [],
   "source": [
    "np.argpartition(dist_mat, 0)[0]"
   ]
  },
  {
   "cell_type": "code",
   "execution_count": null,
   "metadata": {},
   "outputs": [],
   "source": [
    "np.argmin(dist_mat, axis=0)"
   ]
  },
  {
   "cell_type": "code",
   "execution_count": null,
   "metadata": {},
   "outputs": [],
   "source": [
    "plt.imshow(dists)"
   ]
  },
  {
   "cell_type": "code",
   "execution_count": null,
   "metadata": {},
   "outputs": [],
   "source": [
    "from shapely.ops import linemerge, nearest_points\n",
    "from shapely.geometry import MultiLineString"
   ]
  },
  {
   "cell_type": "code",
   "execution_count": null,
   "metadata": {},
   "outputs": [],
   "source": [
    "lines = []\n",
    "each = 50\n",
    "for num, graph in tqdm_notebook(enumerate(graph_lines), len(lines)):\n",
    "#     node, nodes = graph.node, graph.nodes()\n",
    "#     ps = np.array([node[i]['o'] for i in nodes])\n",
    "    same_row = []\n",
    "    node, nodes = graph.node, graph.nodes()\n",
    "    #endpts = np.array([node[i]['o'] for i in nodes])\n",
    "    #print(endpts)\n",
    "    for (s,e) in graph.edges():\n",
    "        ps = []\n",
    "        weight = graph[s][e]['weight']\n",
    "        if weight < 10:\n",
    "            continue\n",
    "        ps.append(nodes[s]['o'])\n",
    "        pts = graph[s][e]['pts']\n",
    "        ps.extend(pts)\n",
    "        ps.append(nodes[e]['o'])\n",
    "        ps = np.array(ps)\n",
    "        #print(len(ps))\n",
    "        if len(ps) > each:\n",
    "            ps = ps[::each]\n",
    "\n",
    "        if len(ps) < 2:\n",
    "            continue\n",
    "        ps =  ps * 1 / 0.2\n",
    "        # change x and y\n",
    "        ps_yx = ps.copy()\n",
    "        ps_yx[:, 1] = ps[:, 0]\n",
    "        ps_yx[:, 0] = ps[:, 1]\n",
    "        #\n",
    "        converted = [meta['transform'] * pt for pt in ps_yx]\n",
    "        #line = LineString(converted)\n",
    "        same_row.append(line)\n",
    "    if len(same_row) > 1:\n",
    "        merged_line = merge_lines(same_row)\n",
    "#         merged_line = linemerge(same_row)\n",
    "    elif len(same_row) == 0:\n",
    "        continue\n",
    "    else:\n",
    "        merged_line = line\n",
    "#     if isinstance(merged_line, MultiLineString):\n",
    "#         good_line = None\n",
    "#         min_length = 10000\n",
    "#         for num, segment in enumerate(merged_line):\n",
    "#             length = segment.length\n",
    "#             if length < min_length:\n",
    "#                 line_to_delete = num\n",
    "#                 min_length = length\n",
    "#         #merged_line = good_line\n",
    "#         fixed_list = list(merged_line).pop(line_to_delete)\n",
    "#         if isinstance(fixed_list, list):\n",
    "#             merged_line = merge_lines(fixed_list)\n",
    "    lines.append(merged_line)"
   ]
  },
  {
   "cell_type": "code",
   "execution_count": null,
   "metadata": {},
   "outputs": [],
   "source": [
    "from scipy.spatial.distance import cdist"
   ]
  },
  {
   "cell_type": "code",
   "execution_count": null,
   "metadata": {},
   "outputs": [],
   "source": [
    "graph_ps.shape"
   ]
  },
  {
   "cell_type": "code",
   "execution_count": null,
   "metadata": {},
   "outputs": [],
   "source": []
  },
  {
   "cell_type": "code",
   "execution_count": null,
   "metadata": {},
   "outputs": [],
   "source": [
    "graph_lines[10]"
   ]
  },
  {
   "cell_type": "code",
   "execution_count": null,
   "metadata": {},
   "outputs": [],
   "source": [
    "def dist(a, b):\n",
    "    \"\"\"\n",
    "    Distance between two points\n",
    "    \"\"\"\n",
    "    return np.sqrt((a[0] - b[0]) ** 2 + (a[1] - b[1]) ** 2)"
   ]
  },
  {
   "cell_type": "code",
   "execution_count": null,
   "metadata": {},
   "outputs": [],
   "source": [
    "def merge_lines(multiline):\n",
    "    merged_line = None\n",
    "    #print(multiline)\n",
    "    pt = find_top_left_point(multiline)\n",
    "    if len(pt) > 1:\n",
    "        pt = pt[0]\n",
    "    #print(pt)\n",
    "    multiline = get_ordered_list(multiline, Point(pt))\n",
    "#     multiline = sort_lines_recursively(multiline)\n",
    "    for line_index in range(len(multiline)):\n",
    "        if not isinstance(merged_line, LineString):\n",
    "            merged_line = multiline[line_index]\n",
    "            continue\n",
    "        \n",
    "        min_dist = 10000\n",
    "        for i in [(0, 0), (0, 1), (1, 0), (1, 1)]:\n",
    "            #print(line_index)\n",
    "            calc_dist = dist(merged_line.coords[i[0]], multiline[line_index].coords[i[1]])\n",
    "            if calc_dist < min_dist:\n",
    "                min_dist = calc_dist\n",
    "                min_setting = i\n",
    "        point_to_add = multiline[line_index].coords[-1 * min_setting[1]]\n",
    "#         point_to_add = multiline[line_index].coords[0]\n",
    "        old_coords = merged_line.coords[:]\n",
    "#         print(min_setting)\n",
    "\n",
    "        if min_setting == (1,1):\n",
    "            seq_to_merge = multiline[line_index].coords[:]\n",
    "            seq_to_merge.reverse()\n",
    "            point_to_add = seq_to_merge[-1 * min_setting[1]]\n",
    "            old_coords.append(point_to_add)\n",
    "            new_line = LineString(old_coords)\n",
    "            line_to_merge = LineString(seq_to_merge)\n",
    "#         elif min_setting == (0,1):\n",
    "#             old_coords.reverse()\n",
    "#             seq_to_merge = multiline[line_index].coords[:]\n",
    "#             seq_to_merge.reverse()\n",
    "#             point_to_add = seq_to_merge[-1 * min_setting[1]]\n",
    "#             old_coords.append(point_to_add)\n",
    "#             new_line = LineString(old_coords)\n",
    "#             line_to_merge = LineString(seq_to_merge)\n",
    "#         elif min_setting == (0,0):\n",
    "#             old_coords.reverse()\n",
    "#             seq_to_merge = multiline[line_index].coords[:]\n",
    "#             point_to_add = seq_to_merge[-1 * min_setting[1]]\n",
    "#             old_coords.append(point_to_add)\n",
    "#             new_line = LineString(old_coords)\n",
    "#             line_to_merge = LineString(seq_to_merge)\n",
    "        else:\n",
    "            old_coords.append(point_to_add)\n",
    "            new_line = LineString(old_coords)\n",
    "            line_to_merge = multiline[line_index]\n",
    "        #print(min_setting)\n",
    "        merged_line = linemerge([new_line, line_to_merge])\n",
    "    return merged_line"
   ]
  },
  {
   "cell_type": "code",
   "execution_count": null,
   "metadata": {},
   "outputs": [],
   "source": []
  },
  {
   "cell_type": "code",
   "execution_count": null,
   "metadata": {},
   "outputs": [],
   "source": [
    "first_line = None\n",
    "for x_line in test_line:\n",
    "    if not isinstance(first_line, LineString):\n",
    "        first_line = x_line\n",
    "        continue\n",
    "    for i in range(len(test_line)):\n",
    "        if i == 0:\n",
    "            continue\n",
    "        pt_1, pt_2 = nearest_points(first_line, test_line[i])\n",
    "        print(dist(pt_1.coords[0], pt_2.coords[0]))"
   ]
  },
  {
   "cell_type": "code",
   "execution_count": null,
   "metadata": {},
   "outputs": [],
   "source": [
    "graph_lines[340].edges()"
   ]
  },
  {
   "cell_type": "code",
   "execution_count": null,
   "metadata": {},
   "outputs": [],
   "source": [
    "some_graph = graph_lines[62]\n",
    "test_line = []\n",
    "node, nodes = some_graph.node, some_graph.nodes()\n",
    "endpts = np.array([node[i]['o'] for i in nodes])\n",
    "for (s,e) in some_graph.edges():\n",
    "    ps = []\n",
    "    weight = some_graph[s][e]['weight']\n",
    "    if weight < 10:\n",
    "        continue\n",
    "    ps.append(nodes[s]['o'])\n",
    "    pts = some_graph[s][e]['pts']\n",
    "    ps.extend(pts)\n",
    "    ps.append(nodes[e]['o'])\n",
    "    ps = np.array(ps)\n",
    "    #print(len(ps))\n",
    "    if len(ps) > each:\n",
    "        ps = ps[::each]\n",
    "\n",
    "    if len(ps) < 2:\n",
    "        continue\n",
    "    ps =  ps * 1 / 0.2\n",
    "    # change x and y\n",
    "    ps_yx = ps.copy()\n",
    "    ps_yx[:, 1] = ps[:, 0]\n",
    "    ps_yx[:, 0] = ps[:, 1]\n",
    "    #\n",
    "    converted = [meta['transform'] * pt for pt in ps_yx]\n",
    "    line = LineString(converted)\n",
    "    test_line.append(line)"
   ]
  },
  {
   "cell_type": "code",
   "execution_count": null,
   "metadata": {},
   "outputs": [],
   "source": [
    "some_graph.edges()"
   ]
  },
  {
   "cell_type": "code",
   "execution_count": null,
   "metadata": {},
   "outputs": [],
   "source": [
    "test_line"
   ]
  },
  {
   "cell_type": "code",
   "execution_count": null,
   "metadata": {},
   "outputs": [],
   "source": [
    "merged_test = merge_lines(test_line)"
   ]
  },
  {
   "cell_type": "code",
   "execution_count": null,
   "metadata": {},
   "outputs": [],
   "source": [
    "list(merged_test).pop(1)"
   ]
  },
  {
   "cell_type": "code",
   "execution_count": null,
   "metadata": {},
   "outputs": [],
   "source": [
    "multi = []\n",
    "for line in lines:\n",
    "    if isinstance(line, MultiLineString):\n",
    "        multi.append(line)"
   ]
  },
  {
   "cell_type": "code",
   "execution_count": null,
   "metadata": {},
   "outputs": [],
   "source": [
    "simple_lines = []\n",
    "for line in lines:\n",
    "    if isinstance(line, LineString):\n",
    "        simple_lines.append(line)"
   ]
  },
  {
   "cell_type": "code",
   "execution_count": null,
   "metadata": {},
   "outputs": [],
   "source": [
    "len(multi)"
   ]
  },
  {
   "cell_type": "code",
   "execution_count": null,
   "metadata": {},
   "outputs": [],
   "source": [
    "def calc_nearest(first_line, second_line):\n",
    "    pt_1, pt_2 = nearest_points(first_line, second_line)\n",
    "    return dist(pt_1.coords[0], pt_2.coords[0])"
   ]
  },
  {
   "cell_type": "code",
   "execution_count": null,
   "metadata": {},
   "outputs": [],
   "source": [
    "def get_ordered_list(lines, line):\n",
    "    lines.sort(key = lambda p: calc_nearest(p, line))\n",
    "    return lines"
   ]
  },
  {
   "cell_type": "code",
   "execution_count": null,
   "metadata": {},
   "outputs": [],
   "source": [
    "def sort_lines_recursively(lines):\n",
    "    new_lines = []\n",
    "    for line in lines:\n",
    "        sorted_i = get_ordered_list(lines, line)\n",
    "        new_lines.append(sorted_i[0])\n",
    "        lines = lines[1:]\n",
    "    return new_lines"
   ]
  },
  {
   "cell_type": "code",
   "execution_count": null,
   "metadata": {},
   "outputs": [],
   "source": [
    "def find_top_left_point(list_lines):\n",
    "    all_coords = []\n",
    "    for line in list_lines:\n",
    "        all_coords.extend(line.coords[:])\n",
    "    all_coords= np.array(all_coords)\n",
    "    ind = np.lexsort((all_coords[:,1],all_coords[:,0])) \n",
    "    all_coords = all_coords[ind]\n",
    "    return all_coords"
   ]
  },
  {
   "cell_type": "code",
   "execution_count": null,
   "metadata": {},
   "outputs": [],
   "source": [
    "save_path = \"/mnt/storage_4tb/ymi/geo_data/40m_for_ori/citrusuco/row_data/504/detected_lines_1.geojson\"\n",
    "line_gdf = gpd.GeoDataFrame(geometry=lines)\n",
    "save_gpd_df(save_path, line_gdf, meta=meta)"
   ]
  },
  {
   "cell_type": "code",
   "execution_count": null,
   "metadata": {},
   "outputs": [],
   "source": [
    "graph_lines[0].edges()"
   ]
  },
  {
   "cell_type": "code",
   "execution_count": null,
   "metadata": {},
   "outputs": [],
   "source": [
    "plt.figure(figsize=(20, 20))\n",
    "plt.imshow(markers, 'gray')"
   ]
  },
  {
   "cell_type": "code",
   "execution_count": null,
   "metadata": {},
   "outputs": [],
   "source": [
    "labels.max()"
   ]
  },
  {
   "cell_type": "code",
   "execution_count": null,
   "metadata": {},
   "outputs": [],
   "source": [
    "plt.imshow(image)"
   ]
  }
 ],
 "metadata": {
  "kernelspec": {
   "display_name": "Python 3",
   "language": "python",
   "name": "python3"
  },
  "language_info": {
   "codemirror_mode": {
    "name": "ipython",
    "version": 3
   },
   "file_extension": ".py",
   "mimetype": "text/x-python",
   "name": "python",
   "nbconvert_exporter": "python",
   "pygments_lexer": "ipython3",
   "version": "3.5.2"
  }
 },
 "nbformat": 4,
 "nbformat_minor": 2
}
