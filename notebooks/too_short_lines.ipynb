{
 "cells": [
  {
   "cell_type": "code",
   "execution_count": 78,
   "metadata": {},
   "outputs": [],
   "source": [
    "import rasterio\n",
    "import numpy as np\n",
    "import cv2\n",
    "from tqdm import tqdm_notebook\n",
    "from scipy import ndimage as ndi\n",
    "from scipy.ndimage import gaussian_filter1d\n",
    "from skimage.morphology import watershed\n",
    "from skimage.morphology import skeletonize\n",
    "import sknw\n",
    "from shapely.geometry import LineString, Polygon\n",
    "import geopandas as gpd\n",
    "import os\n",
    "\n",
    "import matplotlib.pyplot as plt\n",
    "%matplotlib inline"
   ]
  },
  {
   "cell_type": "code",
   "execution_count": 201,
   "metadata": {},
   "outputs": [],
   "source": [
    "def postprocess_single_channel_pred_prod(raster_path, downscale, save_labels=True):\n",
    "    connection_meters = 1\n",
    "    lines_channel = 2\n",
    "    with rasterio.open(raster_path, \"r\") as src:\n",
    "        image = src.read(lines_channel)\n",
    "        if src.meta['dtype'] != 'uint8':\n",
    "            image = (image * 255).astype(np.uint8)\n",
    "        meta = src.meta\n",
    "        kernel_size = int(connection_meters / meta['transform'][0])\n",
    "        if (kernel_size % 2) == 0:\n",
    "            kernel_size += 1\n",
    "\n",
    "        tree_line_mask = cv2.resize(image, None, fx=downscale, fy=downscale, interpolation=cv2.INTER_NEAREST)\n",
    "\n",
    "    mask = tree_line_mask > 200\n",
    "    markers = tree_line_mask > 200\n",
    "    energy = tree_line_mask.copy()\n",
    "    energy[energy < 200] = 0\n",
    "    labels = my_watershed(energy, markers, mask)\n",
    "    if save_labels:\n",
    "        save_meta = meta.copy()\n",
    "        save_meta.update({'dtype': 'uint16',\n",
    "                          'count': '1'})\n",
    "        save_label_path = raster_path.replace(\".tif\", \"_labels.tif\")\n",
    "        with rasterio.open(save_label_path, \"w\", **save_meta) as dst:\n",
    "            dst.write(labels.astype(np.uint16), indexes=1)\n",
    "    return labels, meta"
   ]
  },
  {
   "cell_type": "code",
   "execution_count": 27,
   "metadata": {},
   "outputs": [],
   "source": [
    "def my_watershed(energy, markers, mask):\n",
    "    \"\"\"\n",
    "    Watershed wrapper.\n",
    "\n",
    "    :param energy: Watershed \"energy\" mask\n",
    "    :param markers: \"kernels\" for the watershed algorithm\n",
    "    :param mask: Binary mask separating a single class\n",
    "    :return: Image with every instance labeled with a separate number.\n",
    "    \"\"\"\n",
    "    markers = ndi.label(markers, output=np.uint32)[0]\n",
    "    labels = watershed(255-energy, markers, watershed_line=True, mask=mask)\n",
    "    return labels"
   ]
  },
  {
   "cell_type": "code",
   "execution_count": 28,
   "metadata": {},
   "outputs": [],
   "source": [
    "def graph_to_shp_lines(graph_lines, meta, each=20, downscale=0.2, edge_length_threshold=50):\n",
    "    lines = []\n",
    "    for num, graph in tqdm_notebook(enumerate(graph_lines)):\n",
    "\n",
    "        node, nodes = graph.node, graph.nodes()\n",
    "\n",
    "        for (s, e) in graph.edges():\n",
    "            ps = []\n",
    "            weight = graph[s][e]['weight']\n",
    "            if weight < edge_length_threshold:\n",
    "                continue\n",
    "            ps.append(nodes[s]['o'])\n",
    "            pts = graph[s][e]['pts']\n",
    "            ps.extend(pts)\n",
    "            ps.append(nodes[e]['o'])\n",
    "            ps = np.array(ps)\n",
    "\n",
    "            if len(ps) > each:\n",
    "                last = np.expand_dims(ps[-1], axis=0)\n",
    "\n",
    "                ps = ps[::each]\n",
    "                ps = np.append(ps, last, axis=0)\n",
    "\n",
    "            if len(ps) < 2:\n",
    "                continue\n",
    "            ps = ps * 1 / downscale\n",
    "            # change x and y\n",
    "            ps_yx = ps.copy()\n",
    "            ps_yx[:, 1] = ps[:, 0]\n",
    "            ps_yx[:, 0] = ps[:, 1]\n",
    "            #\n",
    "            converted = [meta['transform'] * pt for pt in ps_yx]\n",
    "            line = LineString(converted)\n",
    "            lines.append(line)\n",
    "    return lines"
   ]
  },
  {
   "cell_type": "code",
   "execution_count": 29,
   "metadata": {},
   "outputs": [],
   "source": [
    "def make_lines(labels):\n",
    "    graphs = []\n",
    "    for num, label in tqdm_notebook(enumerate(range(1, len(np.unique(labels)) + 1)), total=len(np.unique(labels))):\n",
    "        label_mask = labels == label\n",
    "        ske = skeletonize(label_mask).astype(np.uint16)\n",
    "        graph = sknw.build_sknw(ske)\n",
    "        graphs.append(graph)\n",
    "\n",
    "    #         if num == 100:\n",
    "    #             break\n",
    "    return graphs"
   ]
  },
  {
   "cell_type": "code",
   "execution_count": 191,
   "metadata": {},
   "outputs": [],
   "source": [
    "def postprocess_single_channel_pred(raster_path, downscale, save_labels=False):\n",
    "    connection_meters = 1\n",
    "    lines_channel = 1\n",
    "    with rasterio.open(raster_path, \"r\") as src:\n",
    "        image = src.read(lines_channel)\n",
    "        if src.meta['dtype'] != 'uint8':\n",
    "            image = (image * 255).astype(np.uint8)\n",
    "        meta = src.meta\n",
    "        kernel_size = int(connection_meters / meta['transform'][0])\n",
    "        if (kernel_size % 2) == 0:\n",
    "            kernel_size += 1\n",
    "        kernel = np.ones((kernel_size, kernel_size))\n",
    "        image = cv2.morphologyEx(image, cv2.MORPH_CLOSE, kernel)\n",
    "        \n",
    "        # image = cv2.morphologyEx(image, cv2.MORPH_OPEN, kernel)\n",
    "        tree_line_mask = cv2.resize(image, None, fx=downscale, fy=downscale, interpolation=cv2.INTER_NEAREST)\n",
    "        \n",
    "        kernel_size = int(downscale * kernel_size)\n",
    "        if (kernel_size % 2) == 0:\n",
    "            kernel_size += 1\n",
    "            \n",
    "        tree_line_mask = cv2.blur(tree_line_mask, (kernel_size, kernel_size))\n",
    "\n",
    "    mask = tree_line_mask > 50\n",
    "    markers = tree_line_mask > 50\n",
    "    energy = tree_line_mask.copy()\n",
    "    energy[energy < 30] = 0\n",
    "    labels = my_watershed(energy, markers, mask)\n",
    "    if save_labels:\n",
    "        save_meta = meta.copy()\n",
    "        save_meta.update({'dtype': 'uint16',\n",
    "                          'count': '1'})\n",
    "        save_label_path = raster_path.replace(\".tif\", \"_labels.tif\")\n",
    "        with rasterio.open(save_label_path, \"w\", **save_meta) as dst:\n",
    "            dst.write(labels.astype(np.uint16), indexes=1)\n",
    "    return labels, meta"
   ]
  },
  {
   "cell_type": "code",
   "execution_count": 202,
   "metadata": {},
   "outputs": [],
   "source": [
    "def run_lines_generation(raster_path, save_path, downscale=0.2, network_channels=1, crs=None, prod=False):\n",
    "    if not prod:\n",
    "        labels, meta = postprocess_single_channel_pred(raster_path, downscale)\n",
    "    else:\n",
    "        labels, meta = postprocess_single_channel_pred_prod(raster_path, downscale)\n",
    "\n",
    "\n",
    "    # creating lines\n",
    "    graph_lines = make_lines(labels)\n",
    "    return graph_lines\n",
    "    "
   ]
  },
  {
   "cell_type": "code",
   "execution_count": 113,
   "metadata": {},
   "outputs": [],
   "source": [
    "def gaussian_smooth_geom(geom, sigma=2, num_points_factor=2, mode='wrap'):\n",
    "    if isinstance(geom, (Polygon, LineString)):\n",
    "        if type(geom) == LineString:\n",
    "            x, y = gaussian_smooth(geom.coords, sigma, num_points_factor, mode)\n",
    "            return LineString(list(zip(x, y)))\n",
    "\n",
    "        elif type(geom) == Polygon:\n",
    "            x, y = gaussian_smooth(geom.exterior.coords, sigma, num_points_factor, mode)\n",
    "            x = np.append(x, x[0])\n",
    "            y = np.append(y, y[0])\n",
    "            if len(list(geom.interiors)) > 0:\n",
    "                l = []\n",
    "                l.append(list(zip(x, y)))\n",
    "\n",
    "                for interior in list(geom.interiors):\n",
    "                    x, y = gaussian_smooth(interior, sigma, num_points_factor, mode)\n",
    "                    l.append(list(zip(x, y)))\n",
    "                return Polygon([item for sublist in l for item in sublist])\n",
    "            else:\n",
    "\n",
    "                return Polygon(list(zip(x, y)))\n",
    "\n",
    "    elif isinstance(geom, (MultiPolygon, MultiLineString)):\n",
    "        list_ = []\n",
    "        for g in geom:\n",
    "            list_.append(gaussian_smooth_geom(g, sigma, num_points_factor, mode))\n",
    "\n",
    "        if type(geom) == MultiPolygon:\n",
    "\n",
    "            return MultiPolygon(list_)\n",
    "        else:\n",
    "            return MultiLineString(list_)\n",
    "    else:\n",
    "        logging.warning(\n",
    "            'geometry must be LineString, Polygon, MultiLineString or MultiPolygon, returning original geometry')\n",
    "        return geom"
   ]
  },
  {
   "cell_type": "code",
   "execution_count": 55,
   "metadata": {},
   "outputs": [],
   "source": [
    "def save_gpd_df(save_path, geom_df, crs=None, meta=None):\n",
    "    if meta:\n",
    "        geom_df.crs = meta.get('crs')\n",
    "    if os.path.exists(save_path):\n",
    "        os.remove(save_path)\n",
    "    if crs:\n",
    "        geom_df = geom_df.to_crs(epsg=crs)\n",
    "    geom_df.to_file(save_path, driver='GeoJSON', encoding='utf-8')\n"
   ]
  },
  {
   "cell_type": "code",
   "execution_count": 104,
   "metadata": {},
   "outputs": [],
   "source": [
    "def gaussian_smooth(coords, sigma=2, num_points_factor=2, mode='wrap'):\n",
    "    coords = np.array(coords)\n",
    "    x, y = coords.T\n",
    "    xp = np.linspace(0, 1, coords.shape[0])\n",
    "    interp = np.linspace(0, 1, coords.shape[0] * num_points_factor)\n",
    "    x = np.interp(interp, xp, x)\n",
    "    y = np.interp(interp, xp, y)\n",
    "    x = np.pad(x, sigma + 6 * num_points_factor, mode='edge' )\n",
    "    y = np.pad(y, sigma + 6 * num_points_factor, mode='edge')\n",
    "    x = gaussian_filter1d(x, sigma, mode=mode)\n",
    "    y = gaussian_filter1d(y, sigma, mode=mode)\n",
    "    return x, y"
   ]
  },
  {
   "cell_type": "code",
   "execution_count": 194,
   "metadata": {},
   "outputs": [],
   "source": [
    "raster_path = \"/mnt/storage_4tb/ymi/geo_data/angle_net_data/job_results/bugs/1-37/distance_mask.tif\"\n",
    "save_label_path = \"/mnt/storage_4tb/ymi/geo_data/angle_net_data/job_results/bugs/1-37/labels_50_op.tif\"\n",
    "save_path = \"/mnt/storage_4tb/ymi/geo_data/angle_net_data/job_results/bugs/1-37/lines_10_distances.geojson\"\n",
    "downscale = 0.2"
   ]
  },
  {
   "cell_type": "code",
   "execution_count": 220,
   "metadata": {},
   "outputs": [],
   "source": [
    "raster_path = \"/mnt/storage_4tb/ymi/geo_data/angle_net_data/rio_grande/58809/dist_net_resnet_1570_256_tuned_lines/project_transparent_mosaic_rgb_bin.tif\"\n",
    "save_label_path = \"/mnt/storage_4tb/ymi/geo_data/angle_net_data/rio_grande/58809/dist_net_resnet_1570_256_tuned_lines/labels_50_op.tif\"\n",
    "save_path = \"/mnt/storage_4tb/ymi/geo_data/angle_net_data/rio_grande/58809/dist_net_resnet_1570_256_tuned_lines/lines_prod.geojson\"\n",
    "downscale = 0.2"
   ]
  },
  {
   "cell_type": "code",
   "execution_count": 221,
   "metadata": {},
   "outputs": [
    {
     "data": {
      "application/vnd.jupyter.widget-view+json": {
       "model_id": "67e3b61dbe114ad8989e40fdb133fec1",
       "version_major": 2,
       "version_minor": 0
      },
      "text/plain": [
       "HBox(children=(IntProgress(value=0, max=443), HTML(value='')))"
      ]
     },
     "metadata": {},
     "output_type": "display_data"
    },
    {
     "name": "stdout",
     "output_type": "stream",
     "text": [
      "\n"
     ]
    }
   ],
   "source": [
    "graph_lines = run_lines_generation(raster_path, save_path, downscale=downscale, network_channels=1, crs=None, prod=True)"
   ]
  },
  {
   "cell_type": "code",
   "execution_count": 223,
   "metadata": {},
   "outputs": [],
   "source": [
    "labels, meta = postprocess_single_channel_pred(raster_path, downscale=0.2)"
   ]
  },
  {
   "cell_type": "code",
   "execution_count": 224,
   "metadata": {},
   "outputs": [
    {
     "data": {
      "application/vnd.jupyter.widget-view+json": {
       "model_id": "e9209c19e31e46ecbf1a2747deb88da6",
       "version_major": 2,
       "version_minor": 0
      },
      "text/plain": [
       "HBox(children=(IntProgress(value=1, bar_style='info', max=1), HTML(value='')))"
      ]
     },
     "metadata": {},
     "output_type": "display_data"
    },
    {
     "name": "stdout",
     "output_type": "stream",
     "text": [
      "\n"
     ]
    }
   ],
   "source": [
    "# transforming lines to shapely objects\n",
    "lines = graph_to_shp_lines(graph_lines, meta, each=5, downscale=downscale)\n",
    "line_gdf = gpd.GeoDataFrame(geometry=lines)\n",
    "line_gdf['geometry'] = line_gdf['geometry'].apply(lambda x: gaussian_smooth_geom(x,\n",
    "                                                                                 sigma=20,\n",
    "                                                                                 num_points_factor=5,\n",
    "                                                                                 mode='nearest'))\n",
    "# simplify\n",
    "line_gdf['geometry'] = line_gdf['geometry'].apply(lambda x: x.simplify(0.1))\n",
    "line_gdf['id'] = np.arange(len(line_gdf))\n",
    "os.makedirs(os.path.dirname(save_path), exist_ok=True)\n",
    "save_gpd_df(save_path, line_gdf, meta=meta)"
   ]
  },
  {
   "cell_type": "code",
   "execution_count": 196,
   "metadata": {},
   "outputs": [],
   "source": [
    "save_meta = meta.copy()\n",
    "save_meta.update({'dtype': 'uint16',\n",
    "                  'count': '1'})\n",
    "#save_label_path = raster_path.replace(\".tif\", \"_labels.tif\")\n",
    "\n",
    "with rasterio.open(save_label_path, \"w\", **save_meta) as dst:\n",
    "    dst.write(labels.astype(np.uint16), indexes=1)"
   ]
  },
  {
   "cell_type": "code",
   "execution_count": 76,
   "metadata": {},
   "outputs": [
    {
     "data": {
      "text/plain": [
       "12"
      ]
     },
     "execution_count": 76,
     "metadata": {},
     "output_type": "execute_result"
    }
   ],
   "source": [
    "len(line_gdf_no_smooth.values[0][0].coords)"
   ]
  },
  {
   "cell_type": "code",
   "execution_count": 75,
   "metadata": {},
   "outputs": [
    {
     "data": {
      "text/plain": [
       "3"
      ]
     },
     "execution_count": 75,
     "metadata": {},
     "output_type": "execute_result"
    }
   ],
   "source": [
    "len(line_gdf.values[0][0].coords)"
   ]
  },
  {
   "cell_type": "code",
   "execution_count": 80,
   "metadata": {},
   "outputs": [
    {
     "data": {
      "text/plain": [
       "array([[ 707137.28122301, 7467767.26861236],\n",
       "       [ 707140.03775787, 7467762.30746868],\n",
       "       [ 707150.17405668, 7467745.95541496]])"
      ]
     },
     "execution_count": 80,
     "metadata": {},
     "output_type": "execute_result"
    }
   ],
   "source": [
    "np.array(line_gdf.values[0][0].coords)"
   ]
  },
  {
   "cell_type": "code",
   "execution_count": 83,
   "metadata": {},
   "outputs": [
    {
     "data": {
      "text/plain": [
       "[<matplotlib.lines.Line2D at 0x7f3b1d08f4a8>]"
      ]
     },
     "execution_count": 83,
     "metadata": {},
     "output_type": "execute_result"
    },
    {
     "data": {
      "image/png": "[encoded data removed]",
      "text/plain": [
       "<Figure size 432x288 with 1 Axes>"
      ]
     },
     "metadata": {
      "needs_background": "light"
     },
     "output_type": "display_data"
    }
   ],
   "source": [
    "plt.plot(np.array(line_gdf_no_smooth.values[0][0].coords)[:, 0], np.array(line_gdf_no_smooth.values[0][0].coords)[:, 1])"
   ]
  },
  {
   "cell_type": "code",
   "execution_count": 85,
   "metadata": {},
   "outputs": [
    {
     "data": {
      "text/plain": [
       "707136.6432400001"
      ]
     },
     "execution_count": 85,
     "metadata": {},
     "output_type": "execute_result"
    }
   ],
   "source": [
    "np.array(line_gdf_no_smooth.values[0][0].coords)[:, 0][0]"
   ]
  },
  {
   "cell_type": "code",
   "execution_count": 87,
   "metadata": {},
   "outputs": [
    {
     "data": {
      "text/plain": [
       "[<matplotlib.lines.Line2D at 0x7f3b58004d30>]"
      ]
     },
     "execution_count": 87,
     "metadata": {},
     "output_type": "execute_result"
    },
    {
     "data": {
      "image/png": "[encoded data removed]",
      "text/plain": [
       "<Figure size 432x288 with 1 Axes>"
      ]
     },
     "metadata": {
      "needs_background": "light"
     },
     "output_type": "display_data"
    }
   ],
   "source": [
    "plt.plot(np.array(line_gdf.values[0][0].coords)[:, 0], np.array(line_gdf.values[0][0].coords)[:, 1])\n",
    "plt.plot(np.array(line_gdf_no_smooth.values[0][0].coords)[:, 0], np.array(line_gdf_no_smooth.values[0][0].coords)[:, 1])"
   ]
  },
  {
   "cell_type": "code",
   "execution_count": 86,
   "metadata": {},
   "outputs": [
    {
     "data": {
      "text/plain": [
       "707137.2812230142"
      ]
     },
     "execution_count": 86,
     "metadata": {},
     "output_type": "execute_result"
    }
   ],
   "source": [
    "np.array(line_gdf.values[0][0].coords)[:, 0][0]"
   ]
  }
 ],
 "metadata": {
  "kernelspec": {
   "display_name": "Python 3",
   "language": "python",
   "name": "python3"
  },
  "language_info": {
   "codemirror_mode": {
    "name": "ipython",
    "version": 3
   },
   "file_extension": ".py",
   "mimetype": "text/x-python",
   "name": "python",
   "nbconvert_exporter": "python",
   "pygments_lexer": "ipython3",
   "version": "3.5.2"
  }
 },
 "nbformat": 4,
 "nbformat_minor": 2
}
