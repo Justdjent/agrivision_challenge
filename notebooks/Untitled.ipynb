{
 "cells": [
  {
   "cell_type": "code",
   "execution_count": null,
   "metadata": {},
   "outputs": [],
   "source": [
    "false_shadows = [\"T24XZ6PEI_2782-3751-3294-4263.jpg\",\n",
    "                 \"GEEZW9LDE_1923-1610-2435-2122.jpg\",\n",
    "                \"A4AXP3TT2_267-3287-779-3799.jpg\",\n",
    "                \"ZYI6ZLYNH_4084-9039-4596-9551.jpg\",\n",
    "                \"393VYUQ83_2188-2343-2700-2855.jpg\",\n",
    "                \"ZYI6ZLYNH_3368-11144-3880-11656.jpg\",\n",
    "                \"GEEZW9LDE_3404-4692-3916-5204.jpg\"]"
   ]
  },
  {
   "cell_type": "code",
   "execution_count": null,
   "metadata": {},
   "outputs": [],
   "source": [
    "ok_shadows = [\"\"]"
   ]
  }
 ],
 "metadata": {
  "kernelspec": {
   "display_name": "Python 3",
   "language": "python",
   "name": "python3"
  },
  "language_info": {
   "codemirror_mode": {
    "name": "ipython",
    "version": 3
   },
   "file_extension": ".py",
   "mimetype": "text/x-python",
   "name": "python",
   "nbconvert_exporter": "python",
   "pygments_lexer": "ipython3",
   "version": "3.5.2"
  }
 },
 "nbformat": 4,
 "nbformat_minor": 2
}
