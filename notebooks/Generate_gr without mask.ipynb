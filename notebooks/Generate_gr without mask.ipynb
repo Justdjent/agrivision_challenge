{
 "cells": [
  {
   "cell_type": "code",
   "execution_count": 66,
   "metadata": {},
   "outputs": [],
   "source": [
    "import os\n",
    "import cv2\n",
    "import geopandas as gpd\n",
    "import numpy as np\n",
    "from rasterio import features\n",
    "from tqdm import tqdm\n",
    "from shapely.ops import cascaded_union\n",
    "from itertools import combinations\n",
    "from shapely.affinity import translate\n",
    "from shapely.geometry import Polygon, LineString, Point, MultiPoint\n",
    "import geopandas as gpd\n",
    "import rasterio\n",
    "import shutil\n",
    "from tqdm import tqdm_notebook\n",
    "import matplotlib.pyplot as plt\n",
    "\n",
    "%matplotlib inline"
   ]
  },
  {
   "cell_type": "code",
   "execution_count": 2,
   "metadata": {},
   "outputs": [],
   "source": [
    "raster_mask = \"/mnt/storage_4tb/ymi/geo_data/40m_for_ori/citrusuco/v5_tta_full_504/rgb_504_rgg_bin.tif\"\n",
    "rows_path = \"/mnt/storage_4tb/ymi/geo_data/40m_for_ori/citrusuco/row_data/504/row_data.geojson\"\n",
    "detected_polygon_path = \"/mnt/storage_4tb/ymi/geo_data/40m_for_ori/citrusuco/row_data/504/detected_polygon.geojson\""
   ]
  },
  {
   "cell_type": "code",
   "execution_count": 3,
   "metadata": {},
   "outputs": [],
   "source": [
    "row_df = gpd.read_file(rows_path)\n",
    "dataset = rasterio.open(raster_mask, \"r\")"
   ]
  },
  {
   "cell_type": "code",
   "execution_count": 4,
   "metadata": {},
   "outputs": [],
   "source": [
    "def points_to_image_view(points, rect, dataset):\n",
    "    col_offset = rect[0]\n",
    "    row_offset = rect[1]\n",
    "    img_polyg_array = []\n",
    "    to_img_mat = ~dataset.meta['transform']\n",
    "    for item in points.iterrows():\n",
    "        polyg_spati = np.array(item[1]['geometry'].coords)\n",
    "        polyg_img = [tuple(pt) * to_img_mat for pt in polyg_spati]\n",
    "        polyg_img = np.subtract(polyg_img, (col_offset, row_offset))\n",
    "        polyg_img = LineString(polyg_img)\n",
    "        # polyg_img = polyg_img.convex_hull\n",
    "        img_polyg_array.append(polyg_img)\n",
    "\n",
    "    return img_polyg_array"
   ]
  },
  {
   "cell_type": "code",
   "execution_count": 5,
   "metadata": {},
   "outputs": [],
   "source": [
    "def lines_to_image_view(points, dataset, rect=None):\n",
    "    if rect:\n",
    "        col_offset = rect[0]\n",
    "        row_offset = rect[1]\n",
    "    img_polyg_array = []\n",
    "    to_img_mat = ~dataset.meta['transform']\n",
    "    for item in points.iterrows():\n",
    "        polyg_spati = np.array(item[1]['geometry'].coords)\n",
    "        polyg_img = [tuple(pt) * to_img_mat for pt in polyg_spati]\n",
    "        if rect:\n",
    "            polyg_img = np.subtract(polyg_img, (col_offset, row_offset))\n",
    "        polyg_img = LineString(polyg_img)\n",
    "        # polyg_img = polyg_img.convex_hull\n",
    "        img_polyg_array.append(polyg_img)\n",
    "\n",
    "    return img_polyg_array"
   ]
  },
  {
   "cell_type": "code",
   "execution_count": 15,
   "metadata": {},
   "outputs": [],
   "source": [
    "rows_img = lines_to_image_view(row_df, dataset, rect=None)"
   ]
  },
  {
   "cell_type": "code",
   "execution_count": 16,
   "metadata": {},
   "outputs": [],
   "source": [
    "all_pts = []\n",
    "for row in row_df['geometry'].values:\n",
    "    row_pts = [Point(c) for c in row.coords]\n",
    "    all_pts.extend(row_pts)\n",
    "    \n",
    "all_pts_multipoint = MultiPoint(all_pts)"
   ]
  },
  {
   "cell_type": "code",
   "execution_count": 18,
   "metadata": {},
   "outputs": [],
   "source": [
    "all_endpts = []\n",
    "for row in rows_img:\n",
    "    row_pts = [Point(row.coords[0]), Point(row.coords[-1])]\n",
    "    all_endpts.extend(row_pts)"
   ]
  },
  {
   "cell_type": "code",
   "execution_count": 9,
   "metadata": {},
   "outputs": [
    {
     "data": {
      "text/plain": [
       "86"
      ]
     },
     "execution_count": 9,
     "metadata": {},
     "output_type": "execute_result"
    }
   ],
   "source": [
    "len(row_df['geometry'].values)"
   ]
  },
  {
   "cell_type": "code",
   "execution_count": 19,
   "metadata": {},
   "outputs": [
    {
     "data": {
      "text/plain": [
       "172"
      ]
     },
     "execution_count": 19,
     "metadata": {},
     "output_type": "execute_result"
    }
   ],
   "source": [
    "len(all_endpts)"
   ]
  },
  {
   "cell_type": "code",
   "execution_count": 22,
   "metadata": {},
   "outputs": [],
   "source": [
    "from shapely.ops import nearest_points"
   ]
  },
  {
   "cell_type": "code",
   "execution_count": 49,
   "metadata": {},
   "outputs": [],
   "source": [
    "num_y = np.arange(300)\n",
    "num_x = np.arange(300)\n",
    "grid_x, grid_y = np.meshgrid(num_x, num_y)"
   ]
  },
  {
   "cell_type": "code",
   "execution_count": 56,
   "metadata": {},
   "outputs": [],
   "source": [
    "sampling_grid = np.vstack([grid_x.flatten(), grid_y.flatten()]).T"
   ]
  },
  {
   "cell_type": "code",
   "execution_count": 57,
   "metadata": {},
   "outputs": [
    {
     "data": {
      "text/plain": [
       "(90000, 2)"
      ]
     },
     "execution_count": 57,
     "metadata": {},
     "output_type": "execute_result"
    }
   ],
   "source": [
    "sampling_grid.shape"
   ]
  },
  {
   "cell_type": "code",
   "execution_count": 75,
   "metadata": {},
   "outputs": [
    {
     "data": {
      "application/vnd.jupyter.widget-view+json": {
       "model_id": "cd110389e4a24645afe050f28bb98164",
       "version_major": 2,
       "version_minor": 0
      },
      "text/plain": [
       "HBox(children=(IntProgress(value=0, max=90000), HTML(value='')))"
      ]
     },
     "metadata": {},
     "output_type": "display_data"
    }
   ],
   "source": [
    "img = np.zeros((300, 300), dtype=np.int64)\n",
    "for pt in tqdm_notebook(sampling_grid):\n",
    "    pt_shp = Point(pt)\n",
    "    min_dist = 10000\n",
    "    row = None\n",
    "    for num, row in enumerate(rows_img):\n",
    "        nearest_pt = nearest_points(pt_shp, row)[1]\n",
    "        length = LineString((pt_shp, nearest_pt)).length\n",
    "        if length < min_dist:\n",
    "            min_dist = length\n",
    "            row = num\n",
    "        #break\n",
    "    #print(min_dist)\n",
    "    img[pt[0], pt[1]] = min_dist\n",
    "    #break"
   ]
  },
  {
   "cell_type": "code",
   "execution_count": 76,
   "metadata": {},
   "outputs": [
    {
     "data": {
      "text/plain": [
       "<matplotlib.image.AxesImage at 0x7f02e4f61048>"
      ]
     },
     "execution_count": 76,
     "metadata": {},
     "output_type": "execute_result"
    },
    {
     "data": {
      "image/png": "[encoded data removed]",
      "text/plain": [
       "<Figure size 432x288 with 1 Axes>"
      ]
     },
     "metadata": {
      "needs_background": "light"
     },
     "output_type": "display_data"
    }
   ],
   "source": [
    "plt.imshow(img[:50, :50])"
   ]
  },
  {
   "cell_type": "code",
   "execution_count": null,
   "metadata": {},
   "outputs": [],
   "source": [
    "np = nearest_points(line, p)[0]"
   ]
  },
  {
   "cell_type": "code",
   "execution_count": 11,
   "metadata": {},
   "outputs": [],
   "source": [
    "hull = all_pts_multipoint.envelope"
   ]
  },
  {
   "cell_type": "code",
   "execution_count": 12,
   "metadata": {},
   "outputs": [],
   "source": [
    "not_contained = [p for p in all_pts if not hull.buffer(-0.5).contains(p)]"
   ]
  },
  {
   "cell_type": "code",
   "execution_count": 68,
   "metadata": {},
   "outputs": [],
   "source": [
    "detected_polygon_path = \"/mnt/storage_4tb/ymi/geo_data/40m_for_ori/citrusuco/angle_training_180/504/end_pts.geojson\"\n",
    "\n",
    "polygon_df = gpd.GeoDataFrame(geometry=all_endpts)\n",
    "polygon_df.crs = dataset.meta.get('crs')\n",
    "if os.path.exists(detected_polygon_path):\n",
    "    os.remove(detected_polygon_path)\n",
    "polygon_df.to_file(detected_polygon_path, driver='GeoJSON', encoding='utf-8')"
   ]
  },
  {
   "cell_type": "code",
   "execution_count": 2,
   "metadata": {},
   "outputs": [],
   "source": [
    "def dist(a, b):\n",
    "    \"\"\"\n",
    "    Distance between two points\n",
    "    \"\"\"\n",
    "    return np.sqrt((a[0] - b[0]) ** 2 + (a[1] - b[1]) ** 2)\n",
    "\n",
    "\n",
    "def img_to_proba(centers, polys, shape):\n",
    "    \"\"\"\n",
    "    Calculates a \"probability\" of a polygon center\n",
    "\n",
    "    :param centers: list of polygon centers\n",
    "    :param polys: list of polygons\n",
    "    :param shape: image shape\n",
    "    :return: array with tree center probabilities\n",
    "    \"\"\"\n",
    "    dist_mask = np.expand_dims(np.zeros(shape), axis=2)\n",
    "    for polygon, center in zip(polys, centers):\n",
    "        if len(polygon.bounds) == 0:\n",
    "            continue\n",
    "        minx, miny, maxx, maxy = [int(x) for x in polygon.bounds]\n",
    "        # make sure we are in bounds\n",
    "        minx = np.clip(minx, 0, shape[1])\n",
    "        maxx = np.clip(maxx, 0, shape[1])\n",
    "        miny = np.clip(miny, 0, shape[0])\n",
    "        maxy = np.clip(maxy, 0, shape[0])\n",
    "\n",
    "        mask = features.rasterize([polygon], shape).astype(\"float32\")\n",
    "        window = mask[miny : maxy + 1, minx : maxx + 1].copy()\n",
    "        window_binary = window.copy()\n",
    "        offset_center = [center[1] - miny, center[0] - minx]\n",
    "\n",
    "        tree = np.nonzero(window)\n",
    "        for x, y in zip(tree[0], tree[1]):\n",
    "            window[x, y] = dist([x, y], offset_center)\n",
    "        try:\n",
    "            window = window / window.max()\n",
    "        except:\n",
    "            continue\n",
    "        if not np.isfinite(dist_mask).all():\n",
    "            continue\n",
    "\n",
    "        window = np.ones_like(window) - window\n",
    "        mask[miny : maxy + 1, minx : maxx + 1] = window * window_binary\n",
    "        dist_mask = np.concatenate([dist_mask, np.expand_dims(mask, axis=2)], axis=2)\n",
    "\n",
    "        dist_mask = np.max(dist_mask, axis=2, keepdims=True)\n",
    "    return dist_mask"
   ]
  }
 ],
 "metadata": {
  "kernelspec": {
   "display_name": "Python 3",
   "language": "python",
   "name": "python3"
  },
  "language_info": {
   "codemirror_mode": {
    "name": "ipython",
    "version": 3
   },
   "file_extension": ".py",
   "mimetype": "text/x-python",
   "name": "python",
   "nbconvert_exporter": "python",
   "pygments_lexer": "ipython3",
   "version": "3.5.2"
  }
 },
 "nbformat": 4,
 "nbformat_minor": 2
}
