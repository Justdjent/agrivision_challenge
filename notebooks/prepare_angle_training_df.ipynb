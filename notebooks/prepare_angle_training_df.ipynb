{
 "cells": [
  {
   "cell_type": "code",
   "execution_count": 1,
   "metadata": {},
   "outputs": [],
   "source": [
    "import os\n",
    "import pandas as pd\n",
    "import numpy as np\n",
    "\n",
    "from sklearn.model_selection import train_test_split"
   ]
  },
  {
   "cell_type": "code",
   "execution_count": 2,
   "metadata": {},
   "outputs": [],
   "source": [
    "def get_dataframe(root_fldr, weight=1, manual=1):\n",
    "    fldrs = os.listdir(root_fldr)\n",
    "    full_df = pd.DataFrame(columns=['name', 'weight', 'grove', 'manual', 'folder'])\n",
    "    for folder in fldrs:\n",
    "        fldr_path = os.path.join(root_fldr, folder)\n",
    "        if not os.path.isdir(fldr_path):\n",
    "            continue\n",
    "        inside = os.listdir(fldr_path)\n",
    "        msk_dir = 'masks'\n",
    "        if os.path.exists(os.path.join(fldr_path, msk_dir)):\n",
    "            path_msk = os.path.join(fldr_path, msk_dir)\n",
    "            filenames = os.listdir(path_msk)\n",
    "            weights = np.full((len(filenames)), weight)\n",
    "            df = pd.DataFrame(columns=['name', 'weight', 'grove', 'manual', 'folder'])\n",
    "            # df['name'] = [os.path.join(path_msk, n) for n in filenames]\n",
    "            df['name'] = filenames\n",
    "            df['weight'] = weights\n",
    "            df['manual'] = manual\n",
    "            df['folder'] = folder\n",
    "            full_df = pd.concat([full_df, df])\n",
    "\n",
    "#     full_df['grove'] = [i.split('/')[-1].split('_')[0] if i.split('/')[-1].split('_')[1] == 'nrg' else i.split('/')[-1].split('_')[0] + '_' + i.split('/')[-1].split('_')[1] for i in full_df['name']]\n",
    "    full_df['grove'] = full_df['folder']\n",
    "    return full_df"
   ]
  },
  {
   "cell_type": "code",
   "execution_count": 3,
   "metadata": {},
   "outputs": [],
   "source": [
    "root_ = \"/mnt/storage_4tb/ymi/geo_data/angle_net_data/dist_maps_train\"\n",
    "first_df = get_dataframe(root_, weight=1, manual=1)"
   ]
  },
  {
   "cell_type": "code",
   "execution_count": 4,
   "metadata": {},
   "outputs": [
    {
     "data": {
      "text/plain": [
       "27"
      ]
     },
     "execution_count": 4,
     "metadata": {},
     "output_type": "execute_result"
    }
   ],
   "source": [
    "first_df['grove'].nunique()"
   ]
  },
  {
   "cell_type": "code",
   "execution_count": 5,
   "metadata": {},
   "outputs": [
    {
     "data": {
      "text/plain": [
       "1570"
      ]
     },
     "execution_count": 5,
     "metadata": {},
     "output_type": "execute_result"
    }
   ],
   "source": [
    "len(first_df)"
   ]
  },
  {
   "cell_type": "code",
   "execution_count": 6,
   "metadata": {},
   "outputs": [],
   "source": [
    "# Agrowing\n",
    "train_man_agr, test_agr = train_test_split(first_df, test_size=0.1, random_state=0, stratify=first_df[['grove']])\n",
    "#train_only_man_agr, val_only_man_agr = train_test_split(train_man_agr, test_size=0.1, random_state=0, stratify=first_df[['grove']])"
   ]
  },
  {
   "cell_type": "code",
   "execution_count": 7,
   "metadata": {},
   "outputs": [],
   "source": [
    "train_man_agr.to_csv(\"/mnt/storage_4tb/ymi/geo_data/angle_net_data/dist_maps_train/train_1570_dist.csv\", index=False)\n",
    "test_agr.to_csv(\"/mnt/storage_4tb/ymi/geo_data/angle_net_data/dist_maps_train/val_1570_dist.csv\", index=False)"
   ]
  },
  {
   "cell_type": "code",
   "execution_count": 33,
   "metadata": {},
   "outputs": [
    {
     "data": {
      "text/plain": [
       "10.0"
      ]
     },
     "execution_count": 33,
     "metadata": {},
     "output_type": "execute_result"
    }
   ],
   "source": [
    "np.round(10.1)"
   ]
  },
  {
   "cell_type": "code",
   "execution_count": 34,
   "metadata": {},
   "outputs": [
    {
     "data": {
      "text/plain": [
       "array([ 0.,  1.,  2.,  3.,  4.,  5.,  6.,  7.,  8.,  9., 10.])"
      ]
     },
     "execution_count": 34,
     "metadata": {},
     "output_type": "execute_result"
    }
   ],
   "source": [
    "np.arange(0,10.1,1)"
   ]
  },
  {
   "cell_type": "code",
   "execution_count": 36,
   "metadata": {},
   "outputs": [
    {
     "data": {
      "text/plain": [
       "array([ 0.  ,  1.05,  2.1 ,  3.15,  4.2 ,  5.25,  6.3 ,  7.35,  8.4 ,\n",
       "        9.45, 10.5 ])"
      ]
     },
     "execution_count": 36,
     "metadata": {},
     "output_type": "execute_result"
    }
   ],
   "source": [
    "np.linspace(0, 10.5, np.round(10.5) + 1, endpoint=10.5)"
   ]
  },
  {
   "cell_type": "code",
   "execution_count": 16,
   "metadata": {},
   "outputs": [],
   "source": [
    "def create_raster_list(root_fldr):\n",
    "    \"\"\"Function that creates raster list for the processing\n",
    "\n",
    "    :param root_fldr: Path to the project folder with rasters\n",
    "    :type root_fldr: string\n",
    "    :return: Dictionary with raster types as keys and paths to them as values\n",
    "    :rtype: dict\n",
    "    \"\"\"\n",
    "\n",
    "    raster_list = {}\n",
    "    channels = None\n",
    "    files = [f for f in os.listdir(root_fldr) if os.path.isfile(os.path.join(root_fldr, f))]\n",
    "    for file_name in files:\n",
    "        name = file_name.replace(\".tif\", \"\")\n",
    "        print(\"create list : %s\" % name)\n",
    "        raster_path = os.path.join(root_fldr, file_name)\n",
    "\n",
    "        if name == \"project_transparent_mosaic_group1\":\n",
    "            raster_list[\"rgb\"] = raster_path\n",
    "        else:\n",
    "            raster_name = name.replace(\" \", \"_\")\n",
    "            raster_name = raster_name.split(\"_\")[-1]\n",
    "            raster_list[raster_name] = raster_path\n",
    "    return raster_list"
   ]
  },
  {
   "cell_type": "code",
   "execution_count": 23,
   "metadata": {},
   "outputs": [
    {
     "name": "stdout",
     "output_type": "stream",
     "text": [
      "create list : project_transparent_mosaic_red\n",
      "create list : project_transparent_mosaic_nir\n",
      "create list : project_transparent_mosaic_green\n",
      "create list : rl__1-122\n",
      "create list : project_transparent_mosaic_blue\n",
      "{'red': '/mnt/storage_4tb/ymi/geo_data/angle_net_data/cs_rio_pardo/1-122/project_transparent_mosaic_red.tif', 'blue': '/mnt/storage_4tb/ymi/geo_data/angle_net_data/cs_rio_pardo/1-122/project_transparent_mosaic_blue.tif', '1-122': '/mnt/storage_4tb/ymi/geo_data/angle_net_data/cs_rio_pardo/1-122/rl__1-122', 'nir': '/mnt/storage_4tb/ymi/geo_data/angle_net_data/cs_rio_pardo/1-122/project_transparent_mosaic_nir.tif', 'green': '/mnt/storage_4tb/ymi/geo_data/angle_net_data/cs_rio_pardo/1-122/project_transparent_mosaic_green.tif'}\n"
     ]
    }
   ],
   "source": [
    "import json\n",
    "root_ = \"/mnt/storage_4tb/ymi/geo_data/angle_net_data/cs_rio_pardo/1-122\"\n",
    "rl = create_raster_list(root_)\n",
    "print(rl)"
   ]
  },
  {
   "cell_type": "code",
   "execution_count": 22,
   "metadata": {},
   "outputs": [],
   "source": [
    "json_path = os.path.join(root_, \"_\".join([\"rl_\", os.path.basename(root_)]))\n",
    "\n",
    "with open(json_path, \"w\") as dst:\n",
    "    json.dump(rl, dst)"
   ]
  },
  {
   "cell_type": "code",
   "execution_count": null,
   "metadata": {},
   "outputs": [],
   "source": []
  }
 ],
 "metadata": {
  "kernelspec": {
   "display_name": "Python 3",
   "language": "python",
   "name": "python3"
  },
  "language_info": {
   "codemirror_mode": {
    "name": "ipython",
    "version": 3
   },
   "file_extension": ".py",
   "mimetype": "text/x-python",
   "name": "python",
   "nbconvert_exporter": "python",
   "pygments_lexer": "ipython3",
   "version": "3.5.2"
  }
 },
 "nbformat": 4,
 "nbformat_minor": 2
}
