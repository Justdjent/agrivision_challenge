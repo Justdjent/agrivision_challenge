{
 "cells": [
  {
   "cell_type": "code",
   "execution_count": 1,
   "metadata": {},
   "outputs": [],
   "source": [
    "from scipy.ndimage import gaussian_filter1d\n",
    "import numpy as np\n",
    "from shapely.geometry import *\n",
    "import geopandas as gpd\n",
    "import math"
   ]
  },
  {
   "cell_type": "code",
   "execution_count": 2,
   "metadata": {},
   "outputs": [],
   "source": [
    "def df_wgs_to_utm(gdf):\n",
    "    if (gdf.crs[\"init\"]!=\"epsg:4326\"):\n",
    "        raise Exception(\"in df_wgs_to_utm - converting GeoDataFrame projection from wgs to utm - input GeoDataFrame is not in wgs. crs is {}\".format(gdf.crs))\n",
    "    points = gdf.geometry.centroid.tolist()\n",
    "    multi = MultiPoint(points)\n",
    "    pt = multi.centroid.coords[0]\n",
    "    epsg = convert_wgs_to_utm(pt[0],pt[1])\n",
    "    return gdf.to_crs({'init': 'epsg:' + epsg})\n",
    "\n",
    "def convert_wgs_to_utm(lon, lat):\n",
    "    utm_band = str((math.floor((lon + 180) / 6 ) % 60) + 1)\n",
    "    if len(utm_band) == 1:\n",
    "        utm_band = '0'+utm_band\n",
    "    if lat >= 0:\n",
    "        epsg_code = '326' + utm_band\n",
    "    else:\n",
    "        epsg_code = '327' + utm_band\n",
    "    return epsg_code\n",
    "\n",
    "\n",
    "def gaussian_smooth(coords, sigma=2, num_points_factor=2, mode='wrap'):\n",
    "    \n",
    "    coords = np.array(coords)\n",
    "    x, y = coords.T\n",
    "    xp = np.linspace(0, 1, coords.shape[0])\n",
    "    interp = np.linspace(0, 1,coords.shape[0] * num_points_factor)\n",
    "    x = np.interp(interp, xp, x)\n",
    "    y = np.interp(interp, xp, y)\n",
    "    x = gaussian_filter1d(x, sigma, mode=mode)\n",
    "    y = gaussian_filter1d(y, sigma, mode=mode)\n",
    "    return x, y\n",
    "\n",
    "\n",
    "def gaussian_smooth_geom(geom, sigma=2, num_points_factor=2, mode='wrap'):\n",
    "\n",
    "\n",
    "    if isinstance(geom, (Polygon, LineString)):\n",
    "        if type(geom) == LineString:\n",
    "            x, y = gaussian_smooth(geom.coords, sigma, num_points_factor, mode)\n",
    "            return LineString(list(zip(x, y)))\n",
    "\n",
    "        elif type(geom) == Polygon:\n",
    "            x, y = gaussian_smooth(geom.exterior.coords,sigma, num_points_factor, mode)\n",
    "            x = np.append(x, x[0])\n",
    "            y = np.append(y, y[0])\n",
    "            if len(list(geom.interiors)) > 0:\n",
    "                l = []\n",
    "                l.append(list(zip(x, y)))\n",
    "\n",
    "                for interior in list(geom.interiors):\n",
    "                    x, y = gaussian_smooth(interior,sigma, num_points_factor, mode)\n",
    "                    l.append(list(zip(x, y)))\n",
    "                return Polygon([item for sublist in l for item in sublist])\n",
    "            else:\n",
    "\n",
    "                return Polygon(list(zip(x, y)))\n",
    "        \n",
    "    elif isinstance(geom, (MultiPolygon, MultiLineString)):\n",
    "        list_ = []\n",
    "        for g in geom:\n",
    "            list_.append(gaussian_smooth_geom(g, sigma, num_points_factor, mode))\n",
    "\n",
    "        if type(geom) == MultiPolygon:\n",
    "\n",
    "            return MultiPolygon(list_)\n",
    "        else:\n",
    "            return MultiLineString(list_)\n",
    "    else:\n",
    "        warnings.warn('geometry must be LineString, Polygon, MultiLineString or MultiPolygon, returning original geometry')\n",
    "        return geom\n",
    " "
   ]
  },
  {
   "cell_type": "code",
   "execution_count": 15,
   "metadata": {},
   "outputs": [],
   "source": [
    "df = gpd.GeoDataFrame.from_file('/mnt/storage_4tb/ymi/geo_data/angle_net_data/job_results/1-68/dist_net_resnet_1349_256_aug_lines/detected_lines_no_merge.geojson')\n",
    "# df = df_wgs_to_utm(df)"
   ]
  },
  {
   "cell_type": "code",
   "execution_count": 16,
   "metadata": {},
   "outputs": [],
   "source": [
    "df['geometry'] = df['geometry'].apply(lambda x: gaussian_smooth_geom(x,\n",
    "                                                                      sigma=5,\n",
    "                                                                      num_points_factor=5,\n",
    "                                                                      mode = 'nearest'))"
   ]
  },
  {
   "cell_type": "code",
   "execution_count": 17,
   "metadata": {},
   "outputs": [],
   "source": [
    "df['geometry'] = df['geometry'].apply(lambda x: x.simplify(0.1))"
   ]
  },
  {
   "cell_type": "code",
   "execution_count": 18,
   "metadata": {},
   "outputs": [],
   "source": [
    "df.to_crs({'init':'epsg:4326'}).to_file('/mnt/storage_4tb/ymi/geo_data/angle_net_data/job_results/1-68/dist_net_resnet_1349_256_aug_lines/detected_lines_no_merge_smooth.geojson',\n",
    "          driver = 'GeoJSON')"
   ]
  },
  {
   "cell_type": "code",
   "execution_count": null,
   "metadata": {},
   "outputs": [],
   "source": []
  }
 ],
 "metadata": {
  "kernelspec": {
   "display_name": "Python 3",
   "language": "python",
   "name": "python3"
  },
  "language_info": {
   "codemirror_mode": {
    "name": "ipython",
    "version": 3
   },
   "file_extension": ".py",
   "mimetype": "text/x-python",
   "name": "python",
   "nbconvert_exporter": "python",
   "pygments_lexer": "ipython3",
   "version": "3.5.2"
  }
 },
 "nbformat": 4,
 "nbformat_minor": 2
}
