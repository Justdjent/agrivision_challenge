{
 "cells": [
  {
   "cell_type": "code",
   "execution_count": null,
   "metadata": {},
   "outputs": [],
   "source": [
    "import cv2\n",
    "\n",
    "import numpy as np\n",
    "from scipy import ndimage as ndi\n",
    "import geopandas as gpd\n",
    "from skimage.morphology import watershed\n",
    "from skimage.feature import peak_local_max\n",
    "import matplotlib.pyplot as plt\n",
    "import rasterio\n",
    "from shapely.geometry import Point, LineString, Polygon\n",
    "from rasterio import features\n",
    "from rasterio import Affine\n",
    "from shapely.affinity import scale as shapely_scale\n",
    "\n",
    "\n",
    "%matplotlib inline"
   ]
  },
  {
   "cell_type": "code",
   "execution_count": null,
   "metadata": {},
   "outputs": [],
   "source": [
    "img_path = \"/mnt/storage_4tb/ymi/geo_data/40m_for_ori/citrusuco/angle_training_180/504/edges/0_0_1969_0_1969.png\""
   ]
  },
  {
   "cell_type": "code",
   "execution_count": null,
   "metadata": {},
   "outputs": [],
   "source": [
    "raster_mask = \"/mnt/storage_4tb/ymi/geo_data/40m_for_ori/citrusuco/v5_tta_full_504/rgb_504_rgg_bin.tif\"\n",
    "rows_path = \"/mnt/storage_4tb/ymi/geo_data/40m_for_ori/citrusuco/row_data/504/row_data.geojson\"\n",
    "detected_polygon_path = \"/mnt/storage_4tb/ymi/geo_data/40m_for_ori/citrusuco/row_data/504/detected_polygon.geojson\""
   ]
  },
  {
   "cell_type": "code",
   "execution_count": null,
   "metadata": {},
   "outputs": [],
   "source": [
    "row_df = gpd.read_file(rows_path)\n",
    "dataset = rasterio.open(raster_mask, \"r\")"
   ]
  },
  {
   "cell_type": "code",
   "execution_count": null,
   "metadata": {},
   "outputs": [],
   "source": [
    "dataset.height"
   ]
  },
  {
   "cell_type": "code",
   "execution_count": null,
   "metadata": {},
   "outputs": [],
   "source": [
    "def lines_to_image_view(points, dataset, downscale=None, rect=None):\n",
    "    if rect:\n",
    "        col_offset = rect[0]\n",
    "        row_offset = rect[1]\n",
    "    img_polyg_array = []\n",
    "    if downscale:\n",
    "        to_img_mat = ~dataset.meta['transform']\n",
    "        #to_img_mat = ~dataset.meta['transform']\n",
    "    else:\n",
    "        to_img_mat = ~dataset.meta['transform']\n",
    "    for item in points.iterrows():\n",
    "        polyg_spati = np.array(item[1]['geometry'].coords)\n",
    "        polyg_img = [np.array(tuple(pt) * to_img_mat) / downscale for pt in polyg_spati]\n",
    "        if rect:\n",
    "            polyg_img = np.subtract(polyg_img, (col_offset, row_offset))\n",
    "        polyg_img = LineString(polyg_img)\n",
    "        # polyg_img = polyg_img.convex_hull\n",
    "        img_polyg_array.append(polyg_img)\n",
    "\n",
    "    return img_polyg_array"
   ]
  },
  {
   "cell_type": "code",
   "execution_count": null,
   "metadata": {},
   "outputs": [],
   "source": [
    "~dataset.meta['transform']"
   ]
  },
  {
   "cell_type": "code",
   "execution_count": null,
   "metadata": {},
   "outputs": [],
   "source": [
    "rows_img = lines_to_image_view(row_df, dataset, downscale = 6.5, rect=None)"
   ]
  },
  {
   "cell_type": "code",
   "execution_count": null,
   "metadata": {},
   "outputs": [],
   "source": [
    "mid_line = features.rasterize(rows_img, out_shape=(int(dataset.width /  6.5), int(dataset.height /  6.5)))\n",
    "kernel = np.ones((10, 10))\n",
    "dilated_mid_line = cv2.dilate(mid_line, kernel)"
   ]
  },
  {
   "cell_type": "code",
   "execution_count": null,
   "metadata": {},
   "outputs": [],
   "source": [
    "plt.figure(figsize=(20,20))\n",
    "plt.imshow(dilated_mid_line)"
   ]
  },
  {
   "cell_type": "code",
   "execution_count": null,
   "metadata": {},
   "outputs": [],
   "source": [
    "plt.imshow(mid_line)"
   ]
  },
  {
   "cell_type": "code",
   "execution_count": null,
   "metadata": {},
   "outputs": [],
   "source": [
    "image = cv2.imread(img_path, cv2.IMREAD_GRAYSCALE)"
   ]
  },
  {
   "cell_type": "code",
   "execution_count": null,
   "metadata": {},
   "outputs": [],
   "source": [
    "image = dilated_mid_line"
   ]
  },
  {
   "cell_type": "code",
   "execution_count": null,
   "metadata": {},
   "outputs": [],
   "source": [
    "mask_x = np.ones(image.shape) * 255"
   ]
  },
  {
   "cell_type": "code",
   "execution_count": null,
   "metadata": {},
   "outputs": [],
   "source": [
    "image.shape[0] / 300"
   ]
  },
  {
   "cell_type": "code",
   "execution_count": null,
   "metadata": {},
   "outputs": [],
   "source": [
    "plt.imshow(image)"
   ]
  },
  {
   "cell_type": "code",
   "execution_count": null,
   "metadata": {},
   "outputs": [],
   "source": [
    "# Now we want to separate the two objects in image\n",
    "# Generate the markers as local maxima of the distance to the background\n",
    "distance = ndi.distance_transform_edt(image)\n",
    "local_maxi = peak_local_max(distance, indices=False, footprint=np.ones((3, 3)),\n",
    "                            labels=mask_x)\n",
    "markers = ndi.label(image)[0]\n",
    "labels = watershed(-distance, markers, mask=mask_x)\n",
    "plt.figure(figsize=(20,20))\n",
    "fig, axes = plt.subplots(ncols=3, figsize=(9, 3), sharex=True, sharey=True)\n",
    "ax = axes.ravel()\n",
    "\n",
    "ax[0].imshow(image, cmap=plt.cm.gray)\n",
    "ax[0].set_title('Overlapping objects')\n",
    "ax[1].imshow(-distance, cmap=plt.cm.gray)\n",
    "ax[1].set_title('Distances')\n",
    "ax[2].imshow(labels, cmap=plt.cm.nipy_spectral)\n",
    "ax[2].set_title('Separated objects')\n",
    "\n",
    "for a in ax:\n",
    "    a.set_axis_off()\n",
    "\n",
    "fig.tight_layout()"
   ]
  },
  {
   "cell_type": "code",
   "execution_count": null,
   "metadata": {},
   "outputs": [],
   "source": [
    "np.unique(labels)"
   ]
  },
  {
   "cell_type": "code",
   "execution_count": null,
   "metadata": {},
   "outputs": [],
   "source": [
    "polys_shapely = []\n",
    "for point in np.unique(labels):\n",
    "    tmp = labels.copy()\n",
    "    tmp[np.where(labels != point)] = 0\n",
    "    tmp = (tmp > 0).astype(\"uint8\")\n",
    "    _, contour, _ = cv2.findContours(tmp, cv2.RETR_TREE, cv2.CHAIN_APPROX_SIMPLE)\n",
    "    #contours.append(contour)\n",
    "    c_points = [pt for pt in contour[0].squeeze()]\n",
    "    try:\n",
    "        polygon = shapely_scale(Polygon(c_points), 6.5, 6.5, origin=(0,0,0))\n",
    "        polyg_geo = [np.array(tuple(pt) * dataset.meta['transform']) for pt in polygon.exterior.coords]\n",
    "        polyg_geo = Polygon(polyg_geo)\n",
    "        polys_shapely.append(polyg_geo)\n",
    "    except:\n",
    "        raise"
   ]
  },
  {
   "cell_type": "code",
   "execution_count": null,
   "metadata": {},
   "outputs": [],
   "source": [
    "import os\n",
    "\n",
    "detected_polygon_path = \"/mnt/storage_4tb/ymi/geo_data/40m_for_ori/citrusuco/angle_training_180/504/line_polys.geojson\"\n",
    "\n",
    "polygon_df = gpd.GeoDataFrame(geometry=polys_shapely)\n",
    "polygon_df.crs = dataset.meta.get('crs')\n",
    "if os.path.exists(detected_polygon_path):\n",
    "    os.remove(detected_polygon_path)\n",
    "polygon_df.to_file(detected_polygon_path, driver='GeoJSON', encoding='utf-8')"
   ]
  },
  {
   "cell_type": "code",
   "execution_count": null,
   "metadata": {},
   "outputs": [],
   "source": [
    "plt.figure(figsize=(20,20))\n",
    "\n",
    "plt.imshow(labels, cmap='flag')"
   ]
  },
  {
   "cell_type": "code",
   "execution_count": null,
   "metadata": {},
   "outputs": [],
   "source": [
    "labels"
   ]
  },
  {
   "cell_type": "code",
   "execution_count": null,
   "metadata": {},
   "outputs": [],
   "source": []
  }
 ],
 "metadata": {
  "kernelspec": {
   "display_name": "Python 3",
   "language": "python",
   "name": "python3"
  },
  "language_info": {
   "codemirror_mode": {
    "name": "ipython",
    "version": 3
   },
   "file_extension": ".py",
   "mimetype": "text/x-python",
   "name": "python",
   "nbconvert_exporter": "python",
   "pygments_lexer": "ipython3",
   "version": "3.5.2"
  }
 },
 "nbformat": 4,
 "nbformat_minor": 2
}
