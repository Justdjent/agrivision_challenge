{
 "cells": [
  {
   "cell_type": "code",
   "execution_count": 1,
   "metadata": {},
   "outputs": [],
   "source": [
    "import os\n",
    "import pandas as pd\n",
    "import numpy as np\n",
    "\n",
    "from sklearn.model_selection import train_test_split"
   ]
  },
  {
   "cell_type": "code",
   "execution_count": 2,
   "metadata": {},
   "outputs": [],
   "source": [
    "df_path = \"/home/user/projects/agrivision/data/Agriculture-Vision/train_val_df.csv\""
   ]
  },
  {
   "cell_type": "code",
   "execution_count": 7,
   "metadata": {},
   "outputs": [
    {
     "data": {
      "text/plain": [
       "12901    19547280.0\n",
       "12902           0.0\n",
       "12903           0.0\n",
       "12904           0.0\n",
       "12905           0.0\n",
       "12906           0.0\n",
       "12907    10041390.0\n",
       "12908     8694990.0\n",
       "12909           0.0\n",
       "12910           0.0\n",
       "12911           0.0\n",
       "12912           0.0\n",
       "12913           0.0\n",
       "12914           0.0\n",
       "12915           0.0\n",
       "12916           0.0\n",
       "12917           0.0\n",
       "12918           0.0\n",
       "12919           0.0\n",
       "12920           0.0\n",
       "12921           0.0\n",
       "12922     7186410.0\n",
       "12923           0.0\n",
       "12924           0.0\n",
       "12925           0.0\n",
       "12926           0.0\n",
       "12927    17490195.0\n",
       "12928           0.0\n",
       "12929           0.0\n",
       "12930           0.0\n",
       "            ...    \n",
       "17302           0.0\n",
       "17303           0.0\n",
       "17304           0.0\n",
       "17305           0.0\n",
       "17306           0.0\n",
       "17307           0.0\n",
       "17308           0.0\n",
       "17309           0.0\n",
       "17310           0.0\n",
       "17311           0.0\n",
       "17312           0.0\n",
       "17313           0.0\n",
       "17314     3388185.0\n",
       "17315           0.0\n",
       "17316           0.0\n",
       "17317    10135485.0\n",
       "17318           0.0\n",
       "17319           0.0\n",
       "17320           0.0\n",
       "17321     6687630.0\n",
       "17322           0.0\n",
       "17323           0.0\n",
       "17324           0.0\n",
       "17325           0.0\n",
       "17326           0.0\n",
       "17327           0.0\n",
       "17328           0.0\n",
       "17329           0.0\n",
       "17330           0.0\n",
       "17331           0.0\n",
       "Name: double_plant, Length: 4431, dtype: float64"
      ]
     },
     "execution_count": 7,
     "metadata": {},
     "output_type": "execute_result"
    }
   ],
   "source": [
    "df[df['ds_part'] == 'val']['double_plant']"
   ]
  },
  {
   "cell_type": "code",
   "execution_count": 3,
   "metadata": {},
   "outputs": [],
   "source": [
    "df = pd.read_csv(df_path)"
   ]
  },
  {
   "cell_type": "code",
   "execution_count": 12,
   "metadata": {},
   "outputs": [],
   "source": [
    "# filter small groves \n",
    "too_small_data_df = df[df['field'].map(df['field'].value_counts()) < 4]\n",
    "too_small_list = too_small_data_df['field'].tolist()\n",
    "hold_out_small_df = df[df['field'].isin(too_small_list)]\n",
    "df = df[~df['field'].isin(too_small_list)]\n",
    "\n",
    "# Agrowing\n",
    "train_man_agr, test_agr = train_test_split(df, test_size=0.1, random_state=0, stratify=df[['field']])\n",
    "train_man_agr = df.append(hold_out_small_df)\n",
    "train_man_agr.reset_index(inplace=True, drop=True)\n",
    "test_agr.reset_index(inplace=True, drop=True)"
   ]
  },
  {
   "cell_type": "code",
   "execution_count": 15,
   "metadata": {},
   "outputs": [
    {
     "data": {
      "text/plain": [
       "17186"
      ]
     },
     "execution_count": 15,
     "metadata": {},
     "output_type": "execute_result"
    }
   ],
   "source": [
    "len(train_man_agr)"
   ]
  },
  {
   "cell_type": "code",
   "execution_count": 14,
   "metadata": {},
   "outputs": [
    {
     "data": {
      "text/plain": [
       "1719"
      ]
     },
     "execution_count": 14,
     "metadata": {},
     "output_type": "execute_result"
    }
   ],
   "source": [
    "len(test_agr)"
   ]
  },
  {
   "cell_type": "code",
   "execution_count": 17,
   "metadata": {},
   "outputs": [],
   "source": [
    "train_man_agr.to_csv(\"/home/user/projects/agrivision/data/Agriculture-Vision/train_field_split.csv\", index=False)\n",
    "test_agr.to_csv(\"/home/user/projects/agrivision/data/Agriculture-Vision/val_field_split.csv\", index=False)"
   ]
  },
  {
   "cell_type": "code",
   "execution_count": 8,
   "metadata": {},
   "outputs": [],
   "source": [
    "train_df = df[df['ds_part'] == 'train']\n",
    "val_df = df[df['ds_part'] == 'val']\n",
    "\n",
    "train_df.to_csv(\"/home/user/projects/agrivision/data/Agriculture-Vision/train_simple.csv\", index=False)\n",
    "val_df.to_csv(\"/home/user/projects/agrivision/data/Agriculture-Vision/val_simple.csv\", index=False)"
   ]
  },
  {
   "cell_type": "code",
   "execution_count": 18,
   "metadata": {},
   "outputs": [
    {
     "name": "stdout",
     "output_type": "stream",
     "text": [
      "New dictionary with empty lists as keys : {0: [], 1: [], 2: [], 3: []}\n"
     ]
    }
   ],
   "source": [
    "# using dictionary comprehension to construct \n",
    "new_dict = {new_list: [] for new_list in range(4)} \n",
    "      \n",
    "# printing result \n",
    "print (\"New dictionary with empty lists as keys : \" + str(new_dict))"
   ]
  }
 ],
 "metadata": {
  "kernelspec": {
   "display_name": "Python 3",
   "language": "python",
   "name": "python3"
  },
  "language_info": {
   "codemirror_mode": {
    "name": "ipython",
    "version": 3
   },
   "file_extension": ".py",
   "mimetype": "text/x-python",
   "name": "python",
   "nbconvert_exporter": "python",
   "pygments_lexer": "ipython3",
   "version": "3.5.2"
  }
 },
 "nbformat": 4,
 "nbformat_minor": 2
}
