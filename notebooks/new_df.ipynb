{
 "cells": [
  {
   "cell_type": "code",
   "execution_count": 2,
   "metadata": {},
   "outputs": [],
   "source": [
    "import os\n",
    "import pandas as pd\n",
    "import numpy as np\n",
    "\n",
    "from sklearn.model_selection import train_test_split"
   ]
  },
  {
   "cell_type": "code",
   "execution_count": 3,
   "metadata": {},
   "outputs": [],
   "source": [
    "df_path = \"/home/user/projects/agrivision/data/Agriculture-Vision/train_val_df.csv\""
   ]
  },
  {
   "cell_type": "code",
   "execution_count": 4,
   "metadata": {},
   "outputs": [],
   "source": [
    "df = pd.read_csv(df_path)"
   ]
  },
  {
   "cell_type": "code",
   "execution_count": 12,
   "metadata": {},
   "outputs": [],
   "source": [
    "# filter small groves \n",
    "too_small_data_df = df[df['field'].map(df['field'].value_counts()) < 4]\n",
    "too_small_list = too_small_data_df['field'].tolist()\n",
    "hold_out_small_df = df[df['field'].isin(too_small_list)]\n",
    "df = df[~df['field'].isin(too_small_list)]\n",
    "\n",
    "# Agrowing\n",
    "train_man_agr, test_agr = train_test_split(df, test_size=0.1, random_state=0, stratify=df[['field']])\n",
    "train_man_agr = df.append(hold_out_small_df)\n",
    "train_man_agr.reset_index(inplace=True, drop=True)\n",
    "test_agr.reset_index(inplace=True, drop=True)"
   ]
  },
  {
   "cell_type": "code",
   "execution_count": 15,
   "metadata": {},
   "outputs": [
    {
     "data": {
      "text/plain": [
       "17186"
      ]
     },
     "execution_count": 15,
     "metadata": {},
     "output_type": "execute_result"
    }
   ],
   "source": [
    "len(train_man_agr)"
   ]
  },
  {
   "cell_type": "code",
   "execution_count": 14,
   "metadata": {},
   "outputs": [
    {
     "data": {
      "text/plain": [
       "1719"
      ]
     },
     "execution_count": 14,
     "metadata": {},
     "output_type": "execute_result"
    }
   ],
   "source": [
    "len(test_agr)"
   ]
  },
  {
   "cell_type": "code",
   "execution_count": 17,
   "metadata": {},
   "outputs": [],
   "source": [
    "train_man_agr.to_csv(\"/home/user/projects/agrivision/data/Agriculture-Vision/train_field_split.csv\", index=False)\n",
    "test_agr.to_csv(\"/home/user/projects/agrivision/data/Agriculture-Vision/val_field_split.csv\", index=False)"
   ]
  },
  {
   "cell_type": "code",
   "execution_count": 18,
   "metadata": {},
   "outputs": [
    {
     "name": "stdout",
     "output_type": "stream",
     "text": [
      "New dictionary with empty lists as keys : {0: [], 1: [], 2: [], 3: []}\n"
     ]
    }
   ],
   "source": [
    "# using dictionary comprehension to construct \n",
    "new_dict = {new_list: [] for new_list in range(4)} \n",
    "      \n",
    "# printing result \n",
    "print (\"New dictionary with empty lists as keys : \" + str(new_dict))"
   ]
  }
 ],
 "metadata": {
  "kernelspec": {
   "display_name": "Python 3",
   "language": "python",
   "name": "python3"
  },
  "language_info": {
   "codemirror_mode": {
    "name": "ipython",
    "version": 3
   },
   "file_extension": ".py",
   "mimetype": "text/x-python",
   "name": "python",
   "nbconvert_exporter": "python",
   "pygments_lexer": "ipython3",
   "version": "3.5.2"
  }
 },
 "nbformat": 4,
 "nbformat_minor": 2
}
